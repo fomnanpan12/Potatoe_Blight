{
 "cells": [
  {
   "cell_type": "code",
   "execution_count": 1,
   "id": "b1d351af",
   "metadata": {},
   "outputs": [],
   "source": [
    "from tensorflow.keras.preprocessing.image import ImageDataGenerator\n",
    "from tensorflow.keras.models import Sequential\n",
    "import matplotlib.pyplot as plt\n",
    "import numpy as np\n",
    "from tensorflow.keras.layers import Conv2D, MaxPooling2D, Flatten, Dense, Dropout, BatchNormalization\n",
    "from tensorflow.keras.optimizers import Adam\n",
    "from tensorflow.keras.callbacks import EarlyStopping, ModelCheckpoint\n"
   ]
  },
  {
   "cell_type": "code",
   "execution_count": 2,
   "id": "f8aed7af",
   "metadata": {},
   "outputs": [
    {
     "name": "stdout",
     "output_type": "stream",
     "text": [
      "Found 900 images belonging to 3 classes.\n",
      "Found 299 images belonging to 3 classes.\n",
      "Found 300 images belonging to 3 classes.\n"
     ]
    }
   ],
   "source": [
    "\n",
    "# Data augmentation for training (optional)\n",
    "train_datagen = ImageDataGenerator(\n",
    "    rescale=1./255,\n",
    "    rotation_range=20,\n",
    "    width_shift_range=0.2,\n",
    "    height_shift_range=0.2,\n",
    "    shear_range=0.2,\n",
    "    zoom_range=0.2,\n",
    "    horizontal_flip=True,\n",
    ")\n",
    "\n",
    "# No augmentation for validation/test (only rescaling)\n",
    "val_datagen = ImageDataGenerator(rescale=1./255)\n",
    "test_datagen = ImageDataGenerator(rescale=1./255)\n",
    "\n",
    "# Load data from folders\n",
    "train_generator = train_datagen.flow_from_directory(\n",
    "    'data/Train',\n",
    "    target_size=(150, 150),  # Adjust based on your needs\n",
    "    batch_size=32,\n",
    "    class_mode='categorical',  # For multi-class classification\n",
    ")\n",
    "\n",
    "val_generator = val_datagen.flow_from_directory(\n",
    "    'data/Valid',\n",
    "    target_size=(150, 150),\n",
    "    batch_size=32,\n",
    "    class_mode='categorical',\n",
    ")\n",
    "\n",
    "test_generator = test_datagen.flow_from_directory(\n",
    "    'data/Test',\n",
    "    target_size=(150, 150),\n",
    "    batch_size=32,\n",
    "    class_mode='categorical',\n",
    "    shuffle=False,  # Important for correct evaluation\n",
    ")"
   ]
  },
  {
   "cell_type": "code",
   "execution_count": 3,
   "id": "2f247998",
   "metadata": {},
   "outputs": [
    {
     "name": "stderr",
     "output_type": "stream",
     "text": [
      "c:\\Users\\WILSON\\anaconda3\\envs\\tf_env\\lib\\site-packages\\keras\\src\\layers\\convolutional\\base_conv.py:113: UserWarning: Do not pass an `input_shape`/`input_dim` argument to a layer. When using Sequential models, prefer using an `Input(shape)` object as the first layer in the model instead.\n",
      "  super().__init__(activity_regularizer=activity_regularizer, **kwargs)\n"
     ]
    }
   ],
   "source": [
    "\n",
    "\n",
    "model = Sequential([\n",
    "    Conv2D(32, (3, 3), activation='relu', input_shape=(150, 150, 3)),\n",
    "    BatchNormalization(),  # Helps with training stability\n",
    "    MaxPooling2D(2, 2),\n",
    "    \n",
    "    Conv2D(64, (3, 3), activation='relu'),\n",
    "    BatchNormalization(),\n",
    "    MaxPooling2D(2, 2),\n",
    "    \n",
    "    Conv2D(128, (3, 3), activation='relu'),\n",
    "    BatchNormalization(),\n",
    "    MaxPooling2D(2, 2),\n",
    "    \n",
    "    Conv2D(256, (3, 3), activation='relu'),  # Additional conv layer\n",
    "    BatchNormalization(),\n",
    "    MaxPooling2D(2, 2),\n",
    "    \n",
    "    Flatten(),\n",
    "    Dense(512, activation='relu'),\n",
    "    Dropout(0.5),\n",
    "    Dense(256, activation='relu'),  # Additional dense layer\n",
    "    Dropout(0.3),\n",
    "    Dense(train_generator.num_classes, activation='softmax')\n",
    "])\n",
    "\n",
    "model.compile(\n",
    "    optimizer='adam',\n",
    "    loss='categorical_crossentropy',\n",
    "    metrics=['accuracy']\n",
    ")"
   ]
  },
  {
   "cell_type": "code",
   "execution_count": 4,
   "id": "363bbb7f",
   "metadata": {},
   "outputs": [
    {
     "name": "stderr",
     "output_type": "stream",
     "text": [
      "c:\\Users\\WILSON\\anaconda3\\envs\\tf_env\\lib\\site-packages\\keras\\src\\trainers\\data_adapters\\py_dataset_adapter.py:121: UserWarning: Your `PyDataset` class should call `super().__init__(**kwargs)` in its constructor. `**kwargs` can include `workers`, `use_multiprocessing`, `max_queue_size`. Do not pass these arguments to `fit()`, as they will be ignored.\n",
      "  self._warn_if_super_not_called()\n"
     ]
    },
    {
     "name": "stdout",
     "output_type": "stream",
     "text": [
      "Epoch 1/50\n",
      "\u001b[1m28/28\u001b[0m \u001b[32m━━━━━━━━━━━━━━━━━━━━\u001b[0m\u001b[37m\u001b[0m \u001b[1m180s\u001b[0m 5s/step - accuracy: 0.6434 - loss: 2.6033 - val_accuracy: 0.3368 - val_loss: 7.7267\n",
      "Epoch 2/50\n",
      "\u001b[1m 1/28\u001b[0m \u001b[37m━━━━━━━━━━━━━━━━━━━━\u001b[0m \u001b[1m2:03\u001b[0m 5s/step - accuracy: 0.8438 - loss: 1.5990"
     ]
    },
    {
     "name": "stderr",
     "output_type": "stream",
     "text": [
      "c:\\Users\\WILSON\\anaconda3\\envs\\tf_env\\lib\\site-packages\\keras\\src\\trainers\\epoch_iterator.py:116: UserWarning: Your input ran out of data; interrupting training. Make sure that your dataset or generator can generate at least `steps_per_epoch * epochs` batches. You may need to use the `.repeat()` function when building your dataset.\n",
      "  self._interrupted_warning()\n"
     ]
    },
    {
     "name": "stdout",
     "output_type": "stream",
     "text": [
      "\u001b[1m28/28\u001b[0m \u001b[32m━━━━━━━━━━━━━━━━━━━━\u001b[0m\u001b[37m\u001b[0m \u001b[1m19s\u001b[0m 520ms/step - accuracy: 0.8438 - loss: 1.5990 - val_accuracy: 0.3403 - val_loss: 8.2518\n",
      "Epoch 3/50\n",
      "\u001b[1m28/28\u001b[0m \u001b[32m━━━━━━━━━━━━━━━━━━━━\u001b[0m\u001b[37m\u001b[0m \u001b[1m145s\u001b[0m 5s/step - accuracy: 0.8434 - loss: 1.7404 - val_accuracy: 0.3264 - val_loss: 20.7528\n",
      "Epoch 4/50\n",
      "\u001b[1m28/28\u001b[0m \u001b[32m━━━━━━━━━━━━━━━━━━━━\u001b[0m\u001b[37m\u001b[0m \u001b[1m19s\u001b[0m 519ms/step - accuracy: 0.9688 - loss: 0.1798 - val_accuracy: 0.3299 - val_loss: 21.9672\n",
      "Epoch 5/50\n",
      "\u001b[1m28/28\u001b[0m \u001b[32m━━━━━━━━━━━━━━━━━━━━\u001b[0m\u001b[37m\u001b[0m \u001b[1m146s\u001b[0m 5s/step - accuracy: 0.8658 - loss: 1.3342 - val_accuracy: 0.3264 - val_loss: 23.0085\n",
      "Epoch 6/50\n",
      "\u001b[1m28/28\u001b[0m \u001b[32m━━━━━━━━━━━━━━━━━━━━\u001b[0m\u001b[37m\u001b[0m \u001b[1m14s\u001b[0m 489ms/step - accuracy: 0.7500 - loss: 0.4008 - val_accuracy: 0.3368 - val_loss: 24.5199\n",
      "Epoch 7/50\n",
      "\u001b[1m28/28\u001b[0m \u001b[32m━━━━━━━━━━━━━━━━━━━━\u001b[0m\u001b[37m\u001b[0m \u001b[1m139s\u001b[0m 5s/step - accuracy: 0.8437 - loss: 1.4602 - val_accuracy: 0.3368 - val_loss: 21.4804\n",
      "Epoch 8/50\n",
      "\u001b[1m28/28\u001b[0m \u001b[32m━━━━━━━━━━━━━━━━━━━━\u001b[0m\u001b[37m\u001b[0m \u001b[1m18s\u001b[0m 505ms/step - accuracy: 1.0000 - loss: 0.0172 - val_accuracy: 0.3403 - val_loss: 21.6711\n",
      "Epoch 9/50\n",
      "\u001b[1m28/28\u001b[0m \u001b[32m━━━━━━━━━━━━━━━━━━━━\u001b[0m\u001b[37m\u001b[0m \u001b[1m140s\u001b[0m 5s/step - accuracy: 0.8555 - loss: 1.2315 - val_accuracy: 0.3438 - val_loss: 12.5782\n",
      "Epoch 10/50\n",
      "\u001b[1m28/28\u001b[0m \u001b[32m━━━━━━━━━━━━━━━━━━━━\u001b[0m\u001b[37m\u001b[0m \u001b[1m18s\u001b[0m 501ms/step - accuracy: 0.7812 - loss: 1.6565 - val_accuracy: 0.3299 - val_loss: 12.6621\n",
      "Epoch 11/50\n",
      "\u001b[1m28/28\u001b[0m \u001b[32m━━━━━━━━━━━━━━━━━━━━\u001b[0m\u001b[37m\u001b[0m \u001b[1m141s\u001b[0m 5s/step - accuracy: 0.8784 - loss: 1.1698 - val_accuracy: 0.3299 - val_loss: 22.5811\n",
      "Epoch 12/50\n",
      "\u001b[1m28/28\u001b[0m \u001b[32m━━━━━━━━━━━━━━━━━━━━\u001b[0m\u001b[37m\u001b[0m \u001b[1m18s\u001b[0m 504ms/step - accuracy: 0.9375 - loss: 0.4405 - val_accuracy: 0.3368 - val_loss: 22.0758\n",
      "Epoch 13/50\n",
      "\u001b[1m28/28\u001b[0m \u001b[32m━━━━━━━━━━━━━━━━━━━━\u001b[0m\u001b[37m\u001b[0m \u001b[1m138s\u001b[0m 5s/step - accuracy: 0.8852 - loss: 1.0687 - val_accuracy: 0.3368 - val_loss: 12.0579\n",
      "Epoch 14/50\n",
      "\u001b[1m28/28\u001b[0m \u001b[32m━━━━━━━━━━━━━━━━━━━━\u001b[0m\u001b[37m\u001b[0m \u001b[1m18s\u001b[0m 493ms/step - accuracy: 0.9375 - loss: 0.3874 - val_accuracy: 0.3507 - val_loss: 11.8813\n",
      "Epoch 15/50\n",
      "\u001b[1m28/28\u001b[0m \u001b[32m━━━━━━━━━━━━━━━━━━━━\u001b[0m\u001b[37m\u001b[0m \u001b[1m144s\u001b[0m 5s/step - accuracy: 0.9147 - loss: 0.5613 - val_accuracy: 0.3333 - val_loss: 8.7244\n",
      "Epoch 16/50\n",
      "\u001b[1m28/28\u001b[0m \u001b[32m━━━━━━━━━━━━━━━━━━━━\u001b[0m\u001b[37m\u001b[0m \u001b[1m18s\u001b[0m 510ms/step - accuracy: 1.0000 - loss: 0.0156 - val_accuracy: 0.3403 - val_loss: 8.0918\n",
      "Epoch 17/50\n",
      "\u001b[1m28/28\u001b[0m \u001b[32m━━━━━━━━━━━━━━━━━━━━\u001b[0m\u001b[37m\u001b[0m \u001b[1m142s\u001b[0m 5s/step - accuracy: 0.9177 - loss: 0.4935 - val_accuracy: 0.3993 - val_loss: 5.8943\n",
      "Epoch 18/50\n",
      "\u001b[1m28/28\u001b[0m \u001b[32m━━━━━━━━━━━━━━━━━━━━\u001b[0m\u001b[37m\u001b[0m \u001b[1m18s\u001b[0m 507ms/step - accuracy: 0.7812 - loss: 0.4404 - val_accuracy: 0.3958 - val_loss: 5.3714\n",
      "Epoch 19/50\n",
      "\u001b[1m28/28\u001b[0m \u001b[32m━━━━━━━━━━━━━━━━━━━━\u001b[0m\u001b[37m\u001b[0m \u001b[1m4262s\u001b[0m 158s/step - accuracy: 0.9153 - loss: 0.4158 - val_accuracy: 0.3438 - val_loss: 9.1343\n",
      "Epoch 20/50\n",
      "\u001b[1m28/28\u001b[0m \u001b[32m━━━━━━━━━━━━━━━━━━━━\u001b[0m\u001b[37m\u001b[0m \u001b[1m15s\u001b[0m 429ms/step - accuracy: 0.9375 - loss: 0.3146 - val_accuracy: 0.3368 - val_loss: 9.2736\n",
      "Epoch 21/50\n",
      "\u001b[1m28/28\u001b[0m \u001b[32m━━━━━━━━━━━━━━━━━━━━\u001b[0m\u001b[37m\u001b[0m \u001b[1m158s\u001b[0m 5s/step - accuracy: 0.9136 - loss: 0.6318 - val_accuracy: 0.3403 - val_loss: 11.2126\n",
      "Epoch 22/50\n",
      "\u001b[1m28/28\u001b[0m \u001b[32m━━━━━━━━━━━━━━━━━━━━\u001b[0m\u001b[37m\u001b[0m \u001b[1m14s\u001b[0m 382ms/step - accuracy: 0.9375 - loss: 0.0518 - val_accuracy: 0.3438 - val_loss: 10.8942\n",
      "Epoch 23/50\n",
      "\u001b[1m28/28\u001b[0m \u001b[32m━━━━━━━━━━━━━━━━━━━━\u001b[0m\u001b[37m\u001b[0m \u001b[1m115s\u001b[0m 4s/step - accuracy: 0.9298 - loss: 0.3195 - val_accuracy: 0.3264 - val_loss: 7.6809\n",
      "Epoch 24/50\n",
      "\u001b[1m28/28\u001b[0m \u001b[32m━━━━━━━━━━━━━━━━━━━━\u001b[0m\u001b[37m\u001b[0m \u001b[1m14s\u001b[0m 389ms/step - accuracy: 0.8750 - loss: 0.9213 - val_accuracy: 0.3368 - val_loss: 7.5636\n",
      "Epoch 25/50\n",
      "\u001b[1m28/28\u001b[0m \u001b[32m━━━━━━━━━━━━━━━━━━━━\u001b[0m\u001b[37m\u001b[0m \u001b[1m114s\u001b[0m 4s/step - accuracy: 0.9322 - loss: 0.3121 - val_accuracy: 0.3264 - val_loss: 5.0328\n",
      "Epoch 26/50\n",
      "\u001b[1m28/28\u001b[0m \u001b[32m━━━━━━━━━━━━━━━━━━━━\u001b[0m\u001b[37m\u001b[0m \u001b[1m14s\u001b[0m 388ms/step - accuracy: 0.9375 - loss: 0.3038 - val_accuracy: 0.3299 - val_loss: 5.0415\n",
      "Epoch 27/50\n",
      "\u001b[1m28/28\u001b[0m \u001b[32m━━━━━━━━━━━━━━━━━━━━\u001b[0m\u001b[37m\u001b[0m \u001b[1m112s\u001b[0m 4s/step - accuracy: 0.9322 - loss: 0.3283 - val_accuracy: 0.3333 - val_loss: 5.7535\n",
      "Epoch 28/50\n",
      "\u001b[1m28/28\u001b[0m \u001b[32m━━━━━━━━━━━━━━━━━━━━\u001b[0m\u001b[37m\u001b[0m \u001b[1m14s\u001b[0m 373ms/step - accuracy: 0.9062 - loss: 0.5117 - val_accuracy: 0.3333 - val_loss: 5.6306\n",
      "Epoch 29/50\n",
      "\u001b[1m28/28\u001b[0m \u001b[32m━━━━━━━━━━━━━━━━━━━━\u001b[0m\u001b[37m\u001b[0m \u001b[1m113s\u001b[0m 4s/step - accuracy: 0.9417 - loss: 0.2118 - val_accuracy: 0.3924 - val_loss: 2.0054\n",
      "Epoch 30/50\n",
      "\u001b[1m28/28\u001b[0m \u001b[32m━━━━━━━━━━━━━━━━━━━━\u001b[0m\u001b[37m\u001b[0m \u001b[1m13s\u001b[0m 354ms/step - accuracy: 0.9688 - loss: 0.2896 - val_accuracy: 0.3958 - val_loss: 2.0914\n",
      "Epoch 31/50\n",
      "\u001b[1m28/28\u001b[0m \u001b[32m━━━━━━━━━━━━━━━━━━━━\u001b[0m\u001b[37m\u001b[0m \u001b[1m105s\u001b[0m 4s/step - accuracy: 0.9476 - loss: 0.1871 - val_accuracy: 0.6319 - val_loss: 1.0535\n",
      "Epoch 32/50\n",
      "\u001b[1m28/28\u001b[0m \u001b[32m━━━━━━━━━━━━━━━━━━━━\u001b[0m\u001b[37m\u001b[0m \u001b[1m13s\u001b[0m 352ms/step - accuracy: 0.8438 - loss: 0.7383 - val_accuracy: 0.6528 - val_loss: 0.9755\n",
      "Epoch 33/50\n",
      "\u001b[1m28/28\u001b[0m \u001b[32m━━━━━━━━━━━━━━━━━━━━\u001b[0m\u001b[37m\u001b[0m \u001b[1m104s\u001b[0m 4s/step - accuracy: 0.9447 - loss: 0.1914 - val_accuracy: 0.6736 - val_loss: 0.9856\n",
      "Epoch 34/50\n",
      "\u001b[1m28/28\u001b[0m \u001b[32m━━━━━━━━━━━━━━━━━━━━\u001b[0m\u001b[37m\u001b[0m \u001b[1m14s\u001b[0m 387ms/step - accuracy: 0.9375 - loss: 0.1408 - val_accuracy: 0.6701 - val_loss: 0.9930\n",
      "Epoch 35/50\n",
      "\u001b[1m28/28\u001b[0m \u001b[32m━━━━━━━━━━━━━━━━━━━━\u001b[0m\u001b[37m\u001b[0m \u001b[1m110s\u001b[0m 4s/step - accuracy: 0.9345 - loss: 0.2244 - val_accuracy: 0.6840 - val_loss: 0.9534\n",
      "Epoch 36/50\n",
      "\u001b[1m28/28\u001b[0m \u001b[32m━━━━━━━━━━━━━━━━━━━━\u001b[0m\u001b[37m\u001b[0m \u001b[1m14s\u001b[0m 385ms/step - accuracy: 0.9688 - loss: 0.0735 - val_accuracy: 0.6562 - val_loss: 0.9628\n",
      "Epoch 37/50\n",
      "\u001b[1m28/28\u001b[0m \u001b[32m━━━━━━━━━━━━━━━━━━━━\u001b[0m\u001b[37m\u001b[0m \u001b[1m107s\u001b[0m 4s/step - accuracy: 0.9184 - loss: 0.2481 - val_accuracy: 0.5347 - val_loss: 1.0852\n",
      "Epoch 38/50\n",
      "\u001b[1m28/28\u001b[0m \u001b[32m━━━━━━━━━━━━━━━━━━━━\u001b[0m\u001b[37m\u001b[0m \u001b[1m13s\u001b[0m 358ms/step - accuracy: 0.9062 - loss: 0.2519 - val_accuracy: 0.5208 - val_loss: 1.1754\n",
      "Epoch 39/50\n",
      "\u001b[1m28/28\u001b[0m \u001b[32m━━━━━━━━━━━━━━━━━━━━\u001b[0m\u001b[37m\u001b[0m \u001b[1m106s\u001b[0m 4s/step - accuracy: 0.9272 - loss: 0.3089 - val_accuracy: 0.7604 - val_loss: 0.5640\n",
      "Epoch 40/50\n",
      "\u001b[1m28/28\u001b[0m \u001b[32m━━━━━━━━━━━━━━━━━━━━\u001b[0m\u001b[37m\u001b[0m \u001b[1m13s\u001b[0m 354ms/step - accuracy: 0.8750 - loss: 0.3036 - val_accuracy: 0.7743 - val_loss: 0.5091\n",
      "Epoch 41/50\n",
      "\u001b[1m28/28\u001b[0m \u001b[32m━━━━━━━━━━━━━━━━━━━━\u001b[0m\u001b[37m\u001b[0m \u001b[1m109s\u001b[0m 4s/step - accuracy: 0.9446 - loss: 0.1492 - val_accuracy: 0.8819 - val_loss: 0.2736\n",
      "Epoch 42/50\n",
      "\u001b[1m28/28\u001b[0m \u001b[32m━━━━━━━━━━━━━━━━━━━━\u001b[0m\u001b[37m\u001b[0m \u001b[1m13s\u001b[0m 356ms/step - accuracy: 0.9688 - loss: 0.0605 - val_accuracy: 0.8229 - val_loss: 0.4337\n",
      "Epoch 43/50\n",
      "\u001b[1m28/28\u001b[0m \u001b[32m━━━━━━━━━━━━━━━━━━━━\u001b[0m\u001b[37m\u001b[0m \u001b[1m103s\u001b[0m 4s/step - accuracy: 0.9246 - loss: 0.3605 - val_accuracy: 0.9410 - val_loss: 0.1786\n",
      "Epoch 44/50\n",
      "\u001b[1m28/28\u001b[0m \u001b[32m━━━━━━━━━━━━━━━━━━━━\u001b[0m\u001b[37m\u001b[0m \u001b[1m13s\u001b[0m 353ms/step - accuracy: 0.8750 - loss: 0.3915 - val_accuracy: 0.9444 - val_loss: 0.1712\n",
      "Epoch 45/50\n",
      "\u001b[1m28/28\u001b[0m \u001b[32m━━━━━━━━━━━━━━━━━━━━\u001b[0m\u001b[37m\u001b[0m \u001b[1m104s\u001b[0m 4s/step - accuracy: 0.9461 - loss: 0.1622 - val_accuracy: 0.9514 - val_loss: 0.1316\n",
      "Epoch 46/50\n",
      "\u001b[1m28/28\u001b[0m \u001b[32m━━━━━━━━━━━━━━━━━━━━\u001b[0m\u001b[37m\u001b[0m \u001b[1m13s\u001b[0m 374ms/step - accuracy: 0.9375 - loss: 0.1137 - val_accuracy: 0.9479 - val_loss: 0.1277\n",
      "Epoch 47/50\n",
      "\u001b[1m28/28\u001b[0m \u001b[32m━━━━━━━━━━━━━━━━━━━━\u001b[0m\u001b[37m\u001b[0m \u001b[1m104s\u001b[0m 4s/step - accuracy: 0.9323 - loss: 0.2291 - val_accuracy: 0.8368 - val_loss: 0.3847\n",
      "Epoch 48/50\n",
      "\u001b[1m28/28\u001b[0m \u001b[32m━━━━━━━━━━━━━━━━━━━━\u001b[0m\u001b[37m\u001b[0m \u001b[1m13s\u001b[0m 358ms/step - accuracy: 0.9688 - loss: 0.0427 - val_accuracy: 0.8472 - val_loss: 0.3186\n",
      "Epoch 49/50\n",
      "\u001b[1m28/28\u001b[0m \u001b[32m━━━━━━━━━━━━━━━━━━━━\u001b[0m\u001b[37m\u001b[0m \u001b[1m103s\u001b[0m 4s/step - accuracy: 0.9791 - loss: 0.0892 - val_accuracy: 0.9340 - val_loss: 0.1636\n",
      "Epoch 50/50\n",
      "\u001b[1m28/28\u001b[0m \u001b[32m━━━━━━━━━━━━━━━━━━━━\u001b[0m\u001b[37m\u001b[0m \u001b[1m14s\u001b[0m 380ms/step - accuracy: 1.0000 - loss: 0.0294 - val_accuracy: 0.9375 - val_loss: 0.1696\n"
     ]
    }
   ],
   "source": [
    "history = model.fit(\n",
    "    train_generator,\n",
    "    steps_per_epoch=train_generator.samples // train_generator.batch_size,\n",
    "    epochs=50,\n",
    "    validation_data=val_generator,\n",
    "    validation_steps=val_generator.samples // val_generator.batch_size,\n",
    ")"
   ]
  },
  {
   "cell_type": "code",
   "execution_count": 11,
   "id": "e8a8ffbd",
   "metadata": {},
   "outputs": [
    {
     "data": {
      "image/png": "[encoded data removed]",
      "text/plain": [
       "<Figure size 640x480 with 1 Axes>"
      ]
     },
     "metadata": {},
     "output_type": "display_data"
    }
   ],
   "source": [
    "\n",
    "plt.plot(history.history['accuracy'], label='Train Accuracy')\n",
    "plt.plot(history.history['val_accuracy'], label='Validation Accuracy')\n",
    "plt.xlabel('Epochs')\n",
    "plt.ylabel('Accuracy')\n",
    "plt.legend()\n",
    "plt.show()"
   ]
  },
  {
   "cell_type": "code",
   "execution_count": 12,
   "id": "5621d6e3",
   "metadata": {},
   "outputs": [
    {
     "name": "stdout",
     "output_type": "stream",
     "text": [
      "\u001b[1m10/10\u001b[0m \u001b[32m━━━━━━━━━━━━━━━━━━━━\u001b[0m\u001b[37m\u001b[0m \u001b[1m10s\u001b[0m 986ms/step - accuracy: 0.9438 - loss: 0.1183\n",
      "Test Accuracy: 93.33%\n"
     ]
    }
   ],
   "source": [
    "test_loss, test_acc = model.evaluate(test_generator)\n",
    "print(f\"Test Accuracy: {test_acc * 100:.2f}%\")"
   ]
  },
  {
   "cell_type": "code",
   "execution_count": 21,
   "id": "0409a7e5",
   "metadata": {},
   "outputs": [],
   "source": [
    "import joblib  # Directly import joblib"
   ]
  },
  {
   "cell_type": "code",
   "execution_count": null,
   "id": "8c2f1699",
   "metadata": {},
   "outputs": [
    {
     "data": {
      "text/plain": [
       "['potato_classifier.pkl']"
      ]
     },
     "execution_count": 38,
     "metadata": {},
     "output_type": "execute_result"
    }
   ],
   "source": [
    "class_names = ['healthy', 'early_blight', 'late_blight']  # replace with your actual classes\n",
    "# joblib.dump({'model': model, 'class_names': class_names}, 'potato_classifier.pkl')"
   ]
  },
  {
   "cell_type": "code",
   "execution_count": 39,
   "id": "1e694d26",
   "metadata": {},
   "outputs": [
    {
     "data": {
      "text/plain": [
       "['potato_classifier.pkl']"
      ]
     },
     "execution_count": 39,
     "metadata": {},
     "output_type": "execute_result"
    }
   ],
   "source": [
    "# During training\n",
    "joblib.dump({\n",
    "    'model': model,\n",
    "    'class_names': list(train_generator.class_indices.keys()),\n",
    "    'input_shape': (150, 150, 3)  # Optional: save preprocessing info\n",
    "}, 'potato_classifier.pkl')"
   ]
  },
  {
   "cell_type": "code",
   "execution_count": 23,
   "id": "a208ea7b",
   "metadata": {},
   "outputs": [],
   "source": [
    "model = joblib.load('potatoe_classifier.pkl')"
   ]
  },
  {
   "cell_type": "code",
   "execution_count": 36,
   "id": "862e4310",
   "metadata": {},
   "outputs": [
    {
     "name": "stdout",
     "output_type": "stream",
     "text": [
      "\u001b[1m1/1\u001b[0m \u001b[32m━━━━━━━━━━━━━━━━━━━━\u001b[0m\u001b[37m\u001b[0m \u001b[1m0s\u001b[0m 301ms/step\n",
      "Predicted: Potato___Late_blight (Confidence: 0.59)\n"
     ]
    }
   ],
   "source": [
    "# from tensorflow.keras.models import load_model\n",
    "import cv2\n",
    "import numpy as np\n",
    "\n",
    "# model = load_model('b475147c-92bc-419a-b2c3-7d5aabbb79ec___RS_Early.B 7379.JPG')\n",
    "\n",
    "def predict_image(image_path):\n",
    "    img = cv2.imread(image_path)\n",
    "    img = cv2.resize(img, (150, 150))\n",
    "    img = img / 255.0  # Normalize\n",
    "    img = np.expand_dims(img, axis=0)  # Add batch dimension\n",
    "    pred = model.predict(img)\n",
    "    class_idx = np.argmax(pred)\n",
    "    class_label = list(train_generator.class_indices.keys())[class_idx]\n",
    "    return class_label, pred[0][class_idx]\n",
    "\n",
    "# Example usage\n",
    "image_path = \"Potato_healthy-72-_0_464.jpg\"\n",
    "pred_class, confidence = predict_image(image_path)\n",
    "print(f\"Predicted: {pred_class} (Confidence: {confidence:.2f})\")\n"
   ]
  },
  {
   "cell_type": "code",
   "execution_count": null,
   "id": "946aa442",
   "metadata": {},
   "outputs": [],
   "source": []
  }
 ],
 "metadata": {
  "kernelspec": {
   "display_name": "tf_env",
   "language": "python",
   "name": "python3"
  },
  "language_info": {
   "codemirror_mode": {
    "name": "ipython",
    "version": 3
   },
   "file_extension": ".py",
   "mimetype": "text/x-python",
   "name": "python",
   "nbconvert_exporter": "python",
   "pygments_lexer": "ipython3",
   "version": "3.10.18"
  }
 },
 "nbformat": 4,
 "nbformat_minor": 5
}
